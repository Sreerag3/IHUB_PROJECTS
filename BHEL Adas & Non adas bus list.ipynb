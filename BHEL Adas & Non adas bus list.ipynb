{
  "nbformat": 4,
  "nbformat_minor": 0,
  "metadata": {
    "colab": {
      "provenance": [],
      "authorship_tag": "ABX9TyMsdV0ooOL3zdh8tpA3i1VT",
      "include_colab_link": true
    },
    "kernelspec": {
      "name": "python3",
      "display_name": "Python 3"
    },
    "language_info": {
      "name": "python"
    }
  },
  "cells": [
    {
      "cell_type": "markdown",
      "metadata": {
        "id": "view-in-github",
        "colab_type": "text"
      },
      "source": [
        "<a href=\"https://colab.research.google.com/github/Sreerag3/IHUB_PROJECTS/blob/main/BHEL%20Adas%20%26%20Non%20adas%20bus%20list.ipynb\" target=\"_parent\"><img src=\"https://colab.research.google.com/assets/colab-badge.svg\" alt=\"Open In Colab\"/></a>"
      ]
    },
    {
      "cell_type": "code",
      "execution_count": 2,
      "metadata": {
        "colab": {
          "base_uri": "https://localhost:8080/"
        },
        "id": "vnoFWW25jTpW",
        "outputId": "736ee444-00bc-444f-9c97-5e4135f3ee8d"
      },
      "outputs": [
        {
          "output_type": "stream",
          "name": "stdout",
          "text": [
            "Column names in the DataFrame:\n",
            "Index(['SL. NO', 'CHLN_DATE', 'VEHICLE No.', 'ADAS', 'Non Adas', 'DRIVER',\n",
            "       'SERVICE No.', 'SER_ TP', 'OPTD_ KMS', 'HSD', 'KMPL', 'Corridor'],\n",
            "      dtype='object')\n",
            "(48, 6)\n"
          ]
        }
      ],
      "source": [
        "import pandas as pd\n",
        "\n",
        "# Read the input CSV file\n",
        "data = pd.read_csv('/content/Updated Roster.csv')\n",
        "\n",
        "# Strip leading and trailing spaces from column names\n",
        "data.columns = data.columns.str.strip()\n",
        "\n",
        "# Print the column names to check\n",
        "print(\"Column names in the DataFrame:\")\n",
        "print(data.columns)\n",
        "\n",
        "# Keep only relevant columns\n",
        "columns_to_keep = ['SERVICE No.', 'OPTD_ KMS', 'VEHICLE No.', 'ADAS', 'Non Adas', 'Corridor']\n",
        "\n",
        "# Check if all specified columns exist in the DataFrame\n",
        "missing_columns = [col for col in columns_to_keep if col not in data.columns]\n",
        "\n",
        "if missing_columns:\n",
        "    print(f\"Error: The following columns are missing in the DataFrame: {missing_columns}\")\n",
        "else:\n",
        "    data = data[columns_to_keep]\n",
        "\n",
        "    # Group by 'SERVICE No.' and 'Corridor', and aggregate the sum of 'OPTD_KMS'\n",
        "    grouped_data = data.groupby(['SERVICE No.', 'Corridor']).agg({\n",
        "        'OPTD_ KMS': 'sum',\n",
        "        'VEHICLE No.': 'nunique',          # Count unique buses\n",
        "        'ADAS': 'nunique',\n",
        "        'Non Adas': 'nunique',\n",
        "    }).reset_index()\n",
        "\n",
        "    # Rename the columns for clarity\n",
        "    grouped_data.columns = ['SERVICE No.', 'Corridor', 'Total OPTD_KMS', 'Total Buses', 'Total ADAS Buses', 'Total Non Adas Buses']\n",
        "\n",
        "    # Print the shape of the resulting DataFrame\n",
        "    print(grouped_data.shape)\n",
        "\n",
        "    # Save the grouped data to Excel\n",
        "    grouped_data.to_excel(\"BHEL Ride details.xlsx\", index=False)\n"
      ]
    }
  ]
}