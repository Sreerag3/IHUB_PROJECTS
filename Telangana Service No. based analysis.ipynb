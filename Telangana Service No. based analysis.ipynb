{
  "nbformat": 4,
  "nbformat_minor": 0,
  "metadata": {
    "colab": {
      "provenance": [],
      "authorship_tag": "ABX9TyMthJRrYDoZBlzSAu3RlChc",
      "include_colab_link": true
    },
    "kernelspec": {
      "name": "python3",
      "display_name": "Python 3"
    },
    "language_info": {
      "name": "python"
    }
  },
  "cells": [
    {
      "cell_type": "markdown",
      "metadata": {
        "id": "view-in-github",
        "colab_type": "text"
      },
      "source": [
        "<a href=\"https://colab.research.google.com/github/Sreerag3/IHUB_PROJECTS/blob/main/Telangana%20Service%20No.%20based%20analysis.ipynb\" target=\"_parent\"><img src=\"https://colab.research.google.com/assets/colab-badge.svg\" alt=\"Open In Colab\"/></a>"
      ]
    },
    {
      "cell_type": "code",
      "execution_count": null,
      "metadata": {
        "id": "71sGe3LjSHol"
      },
      "outputs": [],
      "source": [
        "import pandas as pd\n",
        "\n",
        "# Read the data from the CSV file\n",
        "data = pd.read_csv('/content/april all corridor.csv')\n",
        "\n",
        "# Select relevant columns\n",
        "data = data[['SERVICE', 'OPTD_ KMS', 'VEHICLE No.', 'Corridor']]\n",
        "\n",
        "# Group by 'VEHICLE No.' and aggregate the 'OPTD_ KMS', 'SERVICE No.', and 'Corridor'\n",
        "aggregated_data = data.groupby('SERVICE').agg({'OPTD_ KMS': 'sum', 'VEHICLE No.': 'nunique', 'Corridor': 'unique'}).reset_index()\n",
        "\n",
        "# Iterate through the rows and print unique SERVICE No., Corridor, and aggregated OPTD_ KMS\n",
        "for index, row in aggregated_data.iterrows():\n",
        "    Service = row['SERVICE']\n",
        "    total_optd_kms = row['OPTD_ KMS']\n",
        "    unique_corridors = row['Corridor']\n",
        "    unique_vehicle_no_count = row['VEHICLE No.']\n",
        "\n",
        "    print(f\"Service No.: { Service}\")\n",
        "    print(f\"Distance travelled (Kms): {total_optd_kms}\")\n",
        "    print(f\"Unique Corridors: {unique_corridors}\")\n",
        "    print(f\"Number of unique Vehicle No.: {unique_vehicle_no_count}\")\n",
        "    print(\"===\")\n",
        "\n",
        "# Save the result to an Excel file\n",
        "aggregated_data.to_excel(\"Veh No based ride details.xlsx\", index=False)\n",
        "\n",
        "# Read the second Excel file with ADAS vehicle list\n",
        "second_file = pd.read_csv('/content/Adas bus details.csv')\n",
        "\n",
        "# Classify as ADAS or Non ADAS based on VEHICLE No. presence in the second Excel file\n",
        "data['bus'] = data['VEHICLE No.'].apply(lambda x: 'ADAS' if x in second_file['Veh No'].values else 'Non ADAS')\n",
        "\n",
        "# Separate data into ADAS and Non ADAS DataFrames\n",
        "adas_data = data[data['bus'] == 'ADAS']\n",
        "non_adas_data = data[data['bus'] == 'Non ADAS']\n",
        "\n",
        "# Group by 'VEHICLE No.' and aggregate the 'OPTD_ KMS', 'SERVICE No.', and 'Corridor'\n",
        "aggregated_data = adas_data.groupby('SERVICE').agg({'OPTD_ KMS': 'sum', 'VEHICLE No.': 'nunique', 'Corridor': 'unique'}).reset_index()\n",
        "\n",
        "# Iterate through the rows and print unique SERVICE No., Corridor, and aggregated OPTD_ KMS\n",
        "for index, row in aggregated_data.iterrows():\n",
        "    Service  = row['SERVICE']\n",
        "    total_optd_kms = row['OPTD_ KMS']\n",
        "    unique_corridors = row['Corridor']\n",
        "    unique_vehicle_no_count = row['VEHICLE No.']\n",
        "\n",
        "    print(f\"Service No.: { Service}\")\n",
        "    print(f\"Distance travelled (Kms): {total_optd_kms}\")\n",
        "    print(f\"Unique Corridors: {unique_corridors}\")\n",
        "    print(f\"Number of unique Vehicle No.: {unique_vehicle_no_count}\")\n",
        "    print(\"===\")\n",
        "\n",
        "# Save the result to an Excel file\n",
        "aggregated_data.to_excel(\"Adas aggregated.xlsx\", index=False)\n",
        "\n",
        "    # Group by 'VEHICLE No.' and aggregate the 'OPTD_ KMS', 'SERVICE No.', and 'Corridor'\n",
        "aggregated_data = non_adas_data.groupby('SERVICE').agg({'OPTD_ KMS': 'sum', 'VEHICLE No.': 'nunique', 'Corridor': 'unique'}).reset_index()\n",
        "\n",
        "# Iterate through the rows and print unique SERVICE No., Corridor, and aggregated OPTD_ KMS\n",
        "for index, row in aggregated_data.iterrows():\n",
        "    Service = row['SERVICE']\n",
        "    total_optd_kms = row['OPTD_ KMS']\n",
        "    unique_corridors = row['Corridor']\n",
        "    unique_vehicle_no_count = row['VEHICLE No.']\n",
        "\n",
        "    print(f\"Service No.: { Service}\")\n",
        "    print(f\"Distance travelled (Kms): {total_optd_kms}\")\n",
        "    print(f\"Unique Corridors: {unique_corridors}\")\n",
        "    print(f\"Number of unique Vehicle No.: {unique_vehicle_no_count}\")\n",
        "    print(\"===\")\n",
        "\n",
        "    # Save the result to an Excel file\n",
        "aggregated_data.to_excel(\"Non - Adas aggregated.xlsx\", index=False)"
      ]
    }
  ]
}