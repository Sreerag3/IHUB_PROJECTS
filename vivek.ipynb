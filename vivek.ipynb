{
  "nbformat": 4,
  "nbformat_minor": 0,
  "metadata": {
    "colab": {
      "provenance": [],
      "include_colab_link": true
    },
    "kernelspec": {
      "name": "python3",
      "display_name": "Python 3"
    },
    "language_info": {
      "name": "python"
    }
  },
  "cells": [
    {
      "cell_type": "markdown",
      "metadata": {
        "id": "view-in-github",
        "colab_type": "text"
      },
      "source": [
        "<a href=\"https://colab.research.google.com/github/Sreerag3/IHUB_PROJECTS/blob/main/vivek.ipynb\" target=\"_parent\"><img src=\"https://colab.research.google.com/assets/colab-badge.svg\" alt=\"Open In Colab\"/></a>"
      ]
    },
    {
      "cell_type": "code",
      "source": [
        "import pandas as pd\n",
        "\n",
        "# Read the input CSV file\n",
        "data = pd.read_csv('/content/BHEL Adas & Non adas buses analysis.csv')\n",
        "\n",
        "# Keep only relevant columns\n",
        "data = data[['SERVICE No.', 'OPTD_ KMS', 'VEHICLE No.', 'ADAS bus', 'Non ADAS bus', 'Corridor']]\n",
        "\n",
        "# Group by 'SERVICE No.' and 'Corridor', and aggregate the sum of 'OPTD_KMS'\n",
        "grouped_data = data.groupby(['SERVICE No.', 'Corridor']).agg({\n",
        "    'OPTD_ KMS': 'sum',\n",
        "    'VEHICLE No.': 'nunique',          # Count unique buses\n",
        "    'ADAS bus': lambda x: x.notna().sum(),  # Count non-blank entries for ADAS bus\n",
        "    'Non ADAS bus': lambda x: x.notna().sum()  # Count non-blank entries for Non ADAS bus\n",
        "}).reset_index()\n",
        "\n",
        "# Rename the columns for clarity\n",
        "grouped_data.columns = ['SERVICE No.', 'Corridor', 'Total OPTD_KMS', 'Total Buses', 'ADAS Buses', 'Non ADAS Buses']\n",
        "\n",
        "# Print the shape of the resulting DataFrame\n",
        "print(grouped_data.shape)\n",
        "\n",
        "# Save the grouped data to Excel\n",
        "grouped_data.to_excel(\"BHEL Ride details.xlsx\", index=False)\n"
      ],
      "metadata": {
        "colab": {
          "base_uri": "https://localhost:8080/"
        },
        "id": "ry4y_s8LyxJi",
        "outputId": "5502f2f7-c2b9-43d3-df28-247e8b54c2aa"
      },
      "execution_count": null,
      "outputs": [
        {
          "output_type": "stream",
          "name": "stdout",
          "text": [
            "(48, 6)\n"
          ]
        }
      ]
    },
    {
      "cell_type": "code",
      "source": [
        "d1= pd.read_excel('/content/adas_vehicle_list.xlsx')\n",
        "d2=pd.DataFrame(d1)\n",
        "d2.columns\n"
      ],
      "metadata": {
        "colab": {
          "base_uri": "https://localhost:8080/"
        },
        "id": "0z8xu2phSPwm",
        "outputId": "aa031401-8073-4939-9035-ee7ccc54b16a"
      },
      "execution_count": null,
      "outputs": [
        {
          "output_type": "execute_result",
          "data": {
            "text/plain": [
              "Index(['Veh No'], dtype='object')"
            ]
          },
          "metadata": {},
          "execution_count": 20
        }
      ]
    },
    {
      "cell_type": "code",
      "source": [
        "d2.shape"
      ],
      "metadata": {
        "colab": {
          "base_uri": "https://localhost:8080/"
        },
        "id": "AjvT6eC7S01U",
        "outputId": "d218a3ef-cc83-4a78-ae8a-84f54b4bc5f7"
      },
      "execution_count": null,
      "outputs": [
        {
          "output_type": "execute_result",
          "data": {
            "text/plain": [
              "(196, 1)"
            ]
          },
          "metadata": {},
          "execution_count": 21
        }
      ]
    },
    {
      "cell_type": "code",
      "source": [
        "d1= pd.read_csv('/content/BHEL Adas & Non adas buses analysis.csv')\n",
        "d2=pd.DataFrame(d1)\n",
        "d2.columns"
      ],
      "metadata": {
        "colab": {
          "base_uri": "https://localhost:8080/"
        },
        "id": "H8uVlVl9TvAL",
        "outputId": "2ab59be9-7e9e-4190-aca4-491377826f6e"
      },
      "execution_count": null,
      "outputs": [
        {
          "output_type": "execute_result",
          "data": {
            "text/plain": [
              "Index(['SL. NO', 'CHLN_DATE', 'VEHICLE No.', 'DRIVER', 'SERVICE No.',\n",
              "       'SER_ TP', 'OPTD_ KMS', 'HSD', 'KMPL', 'Corridor'],\n",
              "      dtype='object')"
            ]
          },
          "metadata": {},
          "execution_count": 32
        }
      ]
    },
    {
      "cell_type": "code",
      "source": [
        "import pandas as pd\n",
        "\n",
        "# Read the input CSV file\n",
        "data = pd.read_csv('/content/BHEL Adas & Non adas buses analysis.csv')\n",
        "\n",
        "\n",
        "second_file = pd.read_excel('/content/adas_vehicle_list.xlsx')\n",
        "\n",
        "# Classify as ADAS or Non ADAS based on VEHICLE No. presence in the second Excel file\n",
        "# data['ADAS bus'] = data['VEHICLE No.'].apply(lambda x: 'ADAS' if x =='Veh No' else 'Non ADAS')\n",
        "data['bus'] = data['VEHICLE No.'].apply(lambda x: 'ADAS' if x in second_file['Veh No'].values else 'Non ADAS')\n",
        "data.to_excel('adaslist1.xlsx',index=False)\n",
        "# # Keep only relevant columns\n",
        "data = data[['SERVICE No.','Corridor','OPTD_ KMS', 'VEHICLE No.','bus']]\n",
        "\n",
        "# Group by 'SERVICE No.' and 'Corridor', and aggregate the sum of 'OPTD_KMS'\n",
        "grouped_data = data.groupby(['SERVICE No.', 'Corridor']).agg({\n",
        "    'OPTD_ KMS': 'sum',\n",
        "    'VEHICLE No.': 'nunique',          # Count unique buses\n",
        "\n",
        "\n",
        "}).reset_index()\n",
        "\n",
        "# Rename the columns for clarity\n",
        "grouped_data.columns = ['SERVICE No.', 'Corridor','Total OPTD_KMS', 'Total Buses', 'ADAS Buses']\n",
        "\n",
        "# Print the shape of the resulting DataFrame\n",
        "print(grouped_data.shape)\n",
        "\n",
        "# Save the grouped data to Excel\n",
        "grouped_data.to_excel(\"BHEL Ride details1.xlsx\", index=False)\n"
      ],
      "metadata": {
        "colab": {
          "base_uri": "https://localhost:8080/"
        },
        "id": "THZVgYNVQ5do",
        "outputId": "3553f362-9e12-4f70-c46d-0745383a4814"
      },
      "execution_count": null,
      "outputs": [
        {
          "output_type": "stream",
          "name": "stdout",
          "text": [
            "(48, 5)\n"
          ]
        }
      ]
    }
  ]
}