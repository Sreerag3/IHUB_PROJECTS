{
  "nbformat": 4,
  "nbformat_minor": 0,
  "metadata": {
    "colab": {
      "provenance": [],
      "authorship_tag": "ABX9TyMC4EAOiol5YsMcslvPdKmG",
      "include_colab_link": true
    },
    "kernelspec": {
      "name": "python3",
      "display_name": "Python 3"
    },
    "language_info": {
      "name": "python"
    }
  },
  "cells": [
    {
      "cell_type": "markdown",
      "metadata": {
        "id": "view-in-github",
        "colab_type": "text"
      },
      "source": [
        "<a href=\"https://colab.research.google.com/github/Sreerag3/IHUB_PROJECTS/blob/main/finding%20hmw%20combo.ipynb\" target=\"_parent\"><img src=\"https://colab.research.google.com/assets/colab-badge.svg\" alt=\"Open In Colab\"/></a>"
      ]
    },
    {
      "cell_type": "code",
      "source": [
        "import pandas as pd\n",
        "\n",
        "# Read the Excel file\n",
        "data = pd.read_csv('/content/HMW + HMW.csv')\n",
        "\n",
        "data = data[['SI.No.','alertType', 'vehicleNum','date', 'time', 'alertType','startTime','speed','GPSlat','GPSlng','seconds']]\n",
        "\n",
        "# Split the data into odd and even based on 'SI.No.'\n",
        "odd_data = data[data['SI.No.'] % 2 != 0]\n",
        "even_data = data[data['SI.No.'] % 2 == 0]\n",
        "\n",
        "# Save the divided data into two separate Excel files\n",
        "odd_data.to_excel('/content/odd_data.xlsx', index=False)\n",
        "even_data.to_excel('/content/even_data.xlsx', index=False)"
      ],
      "metadata": {
        "id": "fSUzXgh98iJM"
      },
      "execution_count": 1,
      "outputs": []
    }
  ]
}
