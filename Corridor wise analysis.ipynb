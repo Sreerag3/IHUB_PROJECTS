{
  "nbformat": 4,
  "nbformat_minor": 0,
  "metadata": {
    "colab": {
      "provenance": [],
      "authorship_tag": "ABX9TyMzFxu4WvQhKaIrbM0GtSy8",
      "include_colab_link": true
    },
    "kernelspec": {
      "name": "python3",
      "display_name": "Python 3"
    },
    "language_info": {
      "name": "python"
    }
  },
  "cells": [
    {
      "cell_type": "markdown",
      "metadata": {
        "id": "view-in-github",
        "colab_type": "text"
      },
      "source": [
        "<a href=\"https://colab.research.google.com/github/Sreerag3/IHUB_PROJECTS/blob/main/Corridor%20wise%20analysis.ipynb\" target=\"_parent\"><img src=\"https://colab.research.google.com/assets/colab-badge.svg\" alt=\"Open In Colab\"/></a>"
      ]
    },
    {
      "cell_type": "code",
      "execution_count": 2,
      "metadata": {
        "colab": {
          "base_uri": "https://localhost:8080/"
        },
        "id": "k0NGWmAqmkGB",
        "outputId": "1bac7f0d-f7b1-4557-f543-d95aea4b0dec"
      },
      "outputs": [
        {
          "output_type": "stream",
          "name": "stdout",
          "text": [
            "Corridors: Bangalore\n",
            "Total OPTD_ KMS: 19209.0\n",
            "Unique SERVICE : [2672]\n",
            "Number of unique Vehicle No.: 5\n",
            "===\n",
            "Corridors: Others\n",
            "Total OPTD_ KMS: 43404.0\n",
            "Unique SERVICE : [2582 2592 2572]\n",
            "Number of unique Vehicle No.: 10\n",
            "===\n",
            "Corridors: Vijayawada\n",
            "Total OPTD_ KMS: 658942.0\n",
            "Unique SERVICE : [2722 3052 2612 2982 2622 2702 2642 2652 2732 2632 3022 2782 2662 2792\n",
            " 1622 2912 2842 1632 2942 1642 2872 3032 3002 3062 1712 1832 2922 2852\n",
            " 2882 1652 2832 3042 2972 2962 2862 3012 2932 2992 1732 2952 2712 2682\n",
            " 2692 1752]\n",
            "Number of unique Vehicle No.: 68\n",
            "===\n"
          ]
        }
      ],
      "source": [
        "import pandas as pd\n",
        "\n",
        "# Read the data from the CSV file\n",
        "data = pd.read_csv('/content/june bhel updated.csv')\n",
        "\n",
        "# Select relevant columns\n",
        "data = data[['SERVICE', 'OPTD_ KMS', 'VEHICLE No.', 'Corridor']]\n",
        "\n",
        "# Group by 'Corridor' and count the unique 'VEHICLE No.'\n",
        "aggregated_data = data.groupby('Corridor').agg({'OPTD_ KMS': 'sum', 'SERVICE': 'unique', 'VEHICLE No.': 'nunique'}).reset_index()\n",
        "\n",
        "# Iterate through the rows and print unique SERVICE No., Corridor, and aggregated OPTD_ KMS\n",
        "for index, row in aggregated_data.iterrows():\n",
        "    corridors = row['Corridor']\n",
        "    total_optd_kms = row['OPTD_ KMS']\n",
        "    unique_service_numbers = row['SERVICE']\n",
        "    unique_vehicle_no_count = row['VEHICLE No.']\n",
        "\n",
        "    print(f\"Corridors: {corridors}\")\n",
        "    print(f\"Total OPTD_ KMS: {total_optd_kms}\")\n",
        "    print(f\"Unique SERVICE : {unique_service_numbers}\")\n",
        "    print(f\"Number of unique Vehicle No.: {unique_vehicle_no_count}\")\n",
        "    print(\"===\")\n",
        "\n",
        "# Save the result to an Excel file\n",
        "aggregated_data.to_excel(\"Corridor wise analysis.xlsx\", index=False)\n"
      ]
    }
  ]
}