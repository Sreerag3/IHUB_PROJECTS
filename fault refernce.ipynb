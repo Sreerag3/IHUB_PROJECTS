{
  "nbformat": 4,
  "nbformat_minor": 0,
  "metadata": {
    "colab": {
      "provenance": [],
      "authorship_tag": "ABX9TyPy2P56mgxcBscEzCZdBU7R",
      "include_colab_link": true
    },
    "kernelspec": {
      "name": "python3",
      "display_name": "Python 3"
    },
    "language_info": {
      "name": "python"
    }
  },
  "cells": [
    {
      "cell_type": "markdown",
      "metadata": {
        "id": "view-in-github",
        "colab_type": "text"
      },
      "source": [
        "<a href=\"https://colab.research.google.com/github/Sreerag3/IHUB_PROJECTS/blob/main/fault%20refernce.ipynb\" target=\"_parent\"><img src=\"https://colab.research.google.com/assets/colab-badge.svg\" alt=\"Open In Colab\"/></a>"
      ]
    },
    {
      "cell_type": "code",
      "execution_count": null,
      "metadata": {
        "id": "EuOu1DdG5P74"
      },
      "outputs": [],
      "source": [
        "import pandas as pd\n",
        "\n",
        "data = pd.read_csv('')\n",
        "print(data.shape)\n",
        "data.head()"
      ]
    },
    {
      "cell_type": "code",
      "source": [
        "data.columns"
      ],
      "metadata": {
        "id": "YGJpy2w47hwm"
      },
      "execution_count": null,
      "outputs": []
    },
    {
      "cell_type": "code",
      "source": [
        "data = data[['VehicleNum', 'groupName', 'driverName', 'distance', 'me_fcw_count', 'me_hmw_count', 'me_lldw_count',\n",
        "             'me_pcw_count', 'me_rldw_count']]\n",
        "data.head()"
      ],
      "metadata": {
        "id": "YdIcBPDW5hoN"
      },
      "execution_count": null,
      "outputs": []
    },
    {
      "cell_type": "code",
      "source": [
        "# data[data['groupName'] == 'Tra'].index"
      ],
      "metadata": {
        "id": "lBzRR8Zz9zZ6"
      },
      "execution_count": null,
      "outputs": []
    },
    {
      "cell_type": "code",
      "source": [
        "count_lists = ['distance', 'me_fcw_count','me_hmw_count', 'me_pcw_count', 'me_lldw_count',\t'me_rldw_count']\n",
        "data_ = data.groupby(['VehicleNum','groupName', 'driverName'])[count_lists].sum().reset_index()\n",
        "print(data_.shape)\n",
        "data_.head()"
      ],
      "metadata": {
        "id": "CmlfX2jV8Buq"
      },
      "execution_count": null,
      "outputs": []
    },
    {
      "cell_type": "code",
      "source": [
        "rem_col = ['MH31EM0391']\n",
        "\n",
        "data_ = data_[~data_['VehicleNum'].isin(rem_col)]\n",
        "print(data_.shape)"
      ],
      "metadata": {
        "id": "QQVSdRyS_CZT"
      },
      "execution_count": null,
      "outputs": []
    },
    {
      "cell_type": "code",
      "source": [
        "# with pd.ExcelWriter('output.xlsx') as writer:\n",
        "#   for g_name, g_data in data_.groupby('groupName'):\n",
        "#     g_data.to_excel(writer, sheet_name=g_name, index=False)"
      ],
      "metadata": {
        "id": "JQraDWs-CA4V"
      },
      "execution_count": null,
      "outputs": []
    },
    {
      "cell_type": "code",
      "source": [
        "print(data['groupName'].value_counts(),'\\n')\n",
        "print(data_['groupName'].value_counts())"
      ],
      "metadata": {
        "id": "jg8hrsIv8b3I"
      },
      "execution_count": null,
      "outputs": []
    },
    {
      "cell_type": "code",
      "source": [
        "name_list = data_['groupName'].unique()\n",
        "print(name_list)\n",
        "\n",
        "for g_value in name_list:\n",
        "\n",
        "  g_df = data_[data_['groupName'] == g_value]\n",
        "  f_name = f\"group_{g_value}.xlsx\"\n",
        "  g_df.to_excel(f_name, index=False)"
      ],
      "metadata": {
        "id": "tD5TlBSG8owr"
      },
      "execution_count": null,
      "outputs": []
    },
    {
      "cell_type": "code",
      "source": [
        "name_ = 'Hansa-School-Bus-Fleet'\n",
        "\n",
        "group_df = data[data['groupName'] == 'name_']\n",
        "group_df.head()"
      ],
      "metadata": {
        "id": "wholVWz5EtQl"
      },
      "execution_count": null,
      "outputs": []
    },
    {
      "cell_type": "code",
      "source": [
        "# Only for Hansa-School-Bus-Fleet\n",
        "\n",
        "gp_df = data[data['groupName'] == 'Hansa-School-Bus-Fleet']\n",
        "\n",
        "count_lists = ['distance', 'me_fcw_count','me_hmw_count', 'me_lldw_count',\t'me_pcw_count',\t'me_rldw_count']\n",
        "gp_df = gp_df.groupby('VehicleNum')[count_lists].sum().reset_index()\n",
        "\n",
        "gp_df.head()"
      ],
      "metadata": {
        "id": "HVvVDPTDhbOg"
      },
      "execution_count": null,
      "outputs": []
    },
    {
      "cell_type": "code",
      "source": [
        "gp_df.to_excel(\"group_Hansa-School-Bus-Fleet.xlsx\")"
      ],
      "metadata": {
        "id": "2_SuMgsVhc8n"
      },
      "execution_count": null,
      "outputs": []
    }
  ]
}