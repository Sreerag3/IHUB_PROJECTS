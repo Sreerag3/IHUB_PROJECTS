{
  "nbformat": 4,
  "nbformat_minor": 0,
  "metadata": {
    "colab": {
      "provenance": [],
      "authorship_tag": "ABX9TyPO60mC4M89Igr2rtGmGbhx",
      "include_colab_link": true
    },
    "kernelspec": {
      "name": "python3",
      "display_name": "Python 3"
    },
    "language_info": {
      "name": "python"
    }
  },
  "cells": [
    {
      "cell_type": "markdown",
      "metadata": {
        "id": "view-in-github",
        "colab_type": "text"
      },
      "source": [
        "<a href=\"https://colab.research.google.com/github/Sreerag3/IHUB_PROJECTS/blob/main/nov%2021%20veh%20no%20based%20telangana.ipynb\" target=\"_parent\"><img src=\"https://colab.research.google.com/assets/colab-badge.svg\" alt=\"Open In Colab\"/></a>"
      ]
    },
    {
      "cell_type": "code",
      "execution_count": null,
      "metadata": {
        "id": "f69n0I8Yu8Se"
      },
      "outputs": [],
      "source": [
        "import pandas as pd\n",
        "\n",
        "# Read the input CSV file\n",
        "data = pd.read_csv('/content/Bhel raw.csv')\n",
        "\n",
        "# Read the second Excel file with ADAS vehicle list\n",
        "second_file = pd.read_csv('/content/Adas bus details.csv')\n",
        "\n",
        "# Classify as ADAS or Non ADAS based on VEHICLE No. presence in the second Excel file\n",
        "data['bus'] = data['VEHICLE No.'].apply(lambda x: 'ADAS' if x in second_file['Veh No'].values else 'Non ADAS')\n",
        "data.to_excel('adaslist1.xlsx', index=False)\n",
        "\n",
        "# Separate data into ADAS and Non ADAS DataFrames\n",
        "adas_data = data[data['bus'] == 'ADAS']\n",
        "non_adas_data = data[data['bus'] == 'Non ADAS']\n",
        "\n",
        "# Save ADAS and Non ADAS DataFrames to separate CSV files\n",
        "adas_data.to_csv('adaslist.csv', index=False)\n",
        "non_adas_data.to_csv('non_adaslist.csv', index=False)"
      ]
    },
    {
      "cell_type": "code",
      "source": [
        "# Group by 'VEHICLE No.' and aggregate the 'OPTD_ KMS', 'SERVICE No.', and 'Corridor'\n",
        "aggregated_data = adas_data.groupby('VEHICLE No.').agg({'OPTD_ KMS': 'sum', 'SERVICE': 'unique'}).reset_index()\n",
        "\n",
        "# Iterate through the rows and print unique SERVICE No., Corridor, and aggregated OPTD_ KMS\n",
        "for index, row in aggregated_data.iterrows():\n",
        "    vehicle_no = row['VEHICLE No.']\n",
        "    total_optd_kms = row['OPTD_ KMS']\n",
        "    unique_service_numbers = row['SERVICE']\n",
        "\n",
        "    print(f\"Vehicle No.: {vehicle_no}\")\n",
        "    print(f\"Total OPTD_ KMS: {total_optd_kms}\")\n",
        "    print(f\"Unique SERVICE: {unique_service_numbers}\")\n",
        "    print(\"===\")\n"
      ],
      "metadata": {
        "id": "8TcL0LAVu_2b"
      },
      "execution_count": null,
      "outputs": []
    },
    {
      "cell_type": "code",
      "source": [
        "# Save the result to an Excel file\n",
        "aggregated_data.to_excel(\"Adas aggregated.xlsx\", index=False)"
      ],
      "metadata": {
        "id": "6Bpy8kLFvDDB"
      },
      "execution_count": null,
      "outputs": []
    },
    {
      "cell_type": "code",
      "source": [
        "# Group by 'VEHICLE No.' and aggregate the 'OPTD_ KMS', 'SERVICE No.', and 'Corridor'\n",
        "aggregated_data = non_adas_data.groupby('VEHICLE No.').agg({'OPTD_ KMS': 'sum', 'SERVICE No.': 'unique'}).reset_index()\n",
        "\n",
        "# Iterate through the rows and print unique SERVICE No., Corridor, and aggregated OPTD_ KMS\n",
        "for index, row in aggregated_data.iterrows():\n",
        "    vehicle_no = row['VEHICLE No.']\n",
        "    total_optd_kms = row['OPTD_ KMS']\n",
        "    unique_service_numbers = row['SERVICE']\n",
        "\n",
        "    print(f\"Vehicle No.: {vehicle_no}\")\n",
        "    print(f\"Total OPTD_ KMS: {total_optd_kms}\")\n",
        "    print(f\"Unique SERVICE: {unique_service_numbers}\")\n",
        "    print(\"===\")\n"
      ],
      "metadata": {
        "id": "QMvCFhwYvFQa"
      },
      "execution_count": null,
      "outputs": []
    },
    {
      "cell_type": "code",
      "source": [
        "# Save the result to an Excel file\n",
        "aggregated_data.to_excel(\"Non - Adas aggregated.xlsx\", index=False)"
      ],
      "metadata": {
        "id": "UGMV0MqmvIyq"
      },
      "execution_count": null,
      "outputs": []
    }
  ]
}