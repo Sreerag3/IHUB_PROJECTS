{
  "nbformat": 4,
  "nbformat_minor": 0,
  "metadata": {
    "colab": {
      "provenance": [],
      "authorship_tag": "ABX9TyNIeyM5zgMIB4HfIj81ndkI",
      "include_colab_link": true
    },
    "kernelspec": {
      "name": "python3",
      "display_name": "Python 3"
    },
    "language_info": {
      "name": "python"
    }
  },
  "cells": [
    {
      "cell_type": "markdown",
      "metadata": {
        "id": "view-in-github",
        "colab_type": "text"
      },
      "source": [
        "<a href=\"https://colab.research.google.com/github/Sreerag3/IHUB_PROJECTS/blob/main/Headway%20gap%20calculation.ipynb\" target=\"_parent\"><img src=\"https://colab.research.google.com/assets/colab-badge.svg\" alt=\"Open In Colab\"/></a>"
      ]
    },
    {
      "cell_type": "code",
      "source": [
        "import pandas as pd\n",
        "from datetime import datetime, timedelta\n",
        "\n",
        "# Read the CSV file\n",
        "data = pd.read_csv('/content/Dev sir headway gap.csv')\n",
        "\n",
        "# Sort the DataFrame based on the specified columns in ascending order\n",
        "data = data.sort_values(by=['vehicleNum', 'date', 'time'], axis=0)\n",
        "\n",
        "# Convert the 'time' column to datetime format\n",
        "data['datetime'] = pd.to_datetime(data['date'] + ' ' + data['time'])\n",
        "\n",
        "# Calculate the time difference between consecutive rows\n",
        "data['time_diff'] = data.groupby('vehicleNum')['datetime'].diff()\n",
        "\n",
        "# Filter rows with time difference less than or equal to 5 seconds and their respective previous rows\n",
        "filtered_data = data[data['time_diff'] <= timedelta(seconds=5)].copy()\n",
        "\n",
        "# Drop the temporary columns used for calculation\n",
        "filtered_data.drop(['datetime', 'time_diff'], axis=1, inplace=True)\n"
      ],
      "metadata": {
        "id": "os7e2TVwrBW_"
      },
      "execution_count": 17,
      "outputs": []
    },
    {
      "cell_type": "code",
      "source": [
        "# Identify the indices of rows in 'data' that correspond to rows in 'filtered_data'\n",
        "previous_rows_indices = filtered_data.index - 1\n",
        "\n",
        "# Select the previous rows from 'data'\n",
        "previous_rows = data.loc[previous_rows_indices]\n",
        "\n",
        "# Combine 'filtered_data' and 'previous_rows' based on the index\n",
        "combined_data = pd.concat([previous_rows, filtered_data], axis=0)\n",
        "\n",
        "# Drop the temporary columns used for calculation\n",
        "combined_data.drop(['datetime', 'time_diff'], axis=1, inplace=True)"
      ],
      "metadata": {
        "id": "MFziXcaQrpf4"
      },
      "execution_count": 18,
      "outputs": []
    },
    {
      "cell_type": "code",
      "source": [
        "from datetime import timedelta\n",
        "\n",
        "# Combine rows from filtered_data and combined_data\n",
        "final_combined_data = pd.concat([filtered_data, combined_data], ignore_index=True)\n",
        "\n",
        "# Save the final combined data to a new file (e.g., CSV)\n",
        "final_combined_data.to_csv('final_combined_data.csv', index=False)"
      ],
      "metadata": {
        "id": "LSj588I0v7OY"
      },
      "execution_count": 19,
      "outputs": []
    },
    {
      "cell_type": "code",
      "source": [
        "sorted_data = final_combined_data.sort_values(by=['vehicleNum', 'date', 'time'], axis=0)\n",
        "sorted_data.to_csv('sorted_data.csv', index=False)"
      ],
      "metadata": {
        "id": "AHOVtM_UyL-7"
      },
      "execution_count": 20,
      "outputs": []
    },
    {
      "cell_type": "code",
      "source": [
        "# Remove duplicate rows\n",
        "deduplicated_data = sorted_data.drop_duplicates()\n",
        "\n",
        "# Save the deduplicated data to a new file (e.g., CSV)\n",
        "deduplicated_data.to_csv('deduplicated_data.csv', index=False)"
      ],
      "metadata": {
        "id": "kvUnaRtby1oq"
      },
      "execution_count": 21,
      "outputs": []
    },
    {
      "cell_type": "code",
      "source": [
        "selected_data = deduplicated_data[['vehicleNum', 'date', 'time', 'alertType']]\n",
        "selected_data.to_csv('Headway gap.csv',index=False)"
      ],
      "metadata": {
        "id": "PNP1NNlH7SrG"
      },
      "execution_count": 22,
      "outputs": []
    }
  ]
}