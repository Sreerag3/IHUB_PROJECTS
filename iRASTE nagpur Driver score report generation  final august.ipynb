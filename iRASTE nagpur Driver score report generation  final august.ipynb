{
  "nbformat": 4,
  "nbformat_minor": 0,
  "metadata": {
    "colab": {
      "provenance": [],
      "authorship_tag": "ABX9TyNGMSeswsdYox4U5wIbP7Ul",
      "include_colab_link": true
    },
    "kernelspec": {
      "name": "python3",
      "display_name": "Python 3"
    },
    "language_info": {
      "name": "python"
    }
  },
  "cells": [
    {
      "cell_type": "markdown",
      "metadata": {
        "id": "view-in-github",
        "colab_type": "text"
      },
      "source": [
        "<a href=\"https://colab.research.google.com/github/Sreerag3/IHUB_PROJECTS/blob/main/iRASTE%20nagpur%20Driver%20score%20report%20generation%20%20final%20august.ipynb\" target=\"_parent\"><img src=\"https://colab.research.google.com/assets/colab-badge.svg\" alt=\"Open In Colab\"/></a>"
      ]
    },
    {
      "cell_type": "code",
      "execution_count": null,
      "metadata": {
        "id": "EuOu1DdG5P74"
      },
      "outputs": [],
      "source": [
        "import pandas as pd\n",
        "\n",
        "data = pd.read_csv('/content/1st Aug - 31st Aug 2023 (1).csv')\n",
        "print(data.shape)\n",
        "data.head()"
      ]
    },
    {
      "cell_type": "code",
      "source": [
        "data.columns"
      ],
      "metadata": {
        "id": "YGJpy2w47hwm"
      },
      "execution_count": null,
      "outputs": []
    },
    {
      "cell_type": "code",
      "source": [
        "data = data[['endDate', 'VehicleNum', 'groupName', 'driverName', 'distance', 'me_fcw_count', 'me_hmw_count',\n",
        "             'me_pcw_count', 'me_lldw_count', 'me_rldw_count']]\n",
        "data.head()"
      ],
      "metadata": {
        "id": "YdIcBPDW5hoN"
      },
      "execution_count": null,
      "outputs": []
    },
    {
      "cell_type": "code",
      "source": [
        "df = data.copy()\n",
        "print(df.shape)"
      ],
      "metadata": {
        "id": "gLfWVT9W5Lws"
      },
      "execution_count": null,
      "outputs": []
    },
    {
      "cell_type": "code",
      "source": [
        "from datetime import datetime\n",
        "\n",
        "def custom_date_parser(date_str):\n",
        "\n",
        "    return datetime.strptime(date_str, '%Y-%m-%d')\n",
        "\n",
        "df['endDate'] = df['endDate'].apply(custom_date_parser)\n",
        "dfs = []\n",
        "\n",
        "day_list = [(1, 8), (9, 16), (17, 24), (25, 31)]\n",
        "\n",
        "for day in day_list:\n",
        "\n",
        "  start_date = datetime(2023, 8, day[0])\n",
        "  end_date = datetime(2023, 8, day[1])\n",
        "  # print(start_date)\n",
        "  mask = (df['endDate'] >= start_date) & (df['endDate'] <= end_date)\n",
        "  filtered_df = df[mask]\n",
        "\n",
        "  filtered_df.reset_index(drop=True, inplace=True)\n",
        "  dfs.append(filtered_df)"
      ],
      "metadata": {
        "id": "iVQ55jAfy6mG"
      },
      "execution_count": 174,
      "outputs": []
    },
    {
      "cell_type": "code",
      "source": [
        "dfs[0].to_excel('Aug 1 - 8.xlsx')"
      ],
      "metadata": {
        "id": "8-AF5RZcJD8Y"
      },
      "execution_count": 175,
      "outputs": []
    },
    {
      "cell_type": "code",
      "source": [
        "dfs[1].to_excel('Aug 9 - 16.xlsx')"
      ],
      "metadata": {
        "id": "4YY_j9YUCdup"
      },
      "execution_count": 176,
      "outputs": []
    },
    {
      "cell_type": "code",
      "source": [
        "dfs[2].to_excel('Aug 17 - 24.xlsx')"
      ],
      "metadata": {
        "id": "nLKKhAlFGwBE"
      },
      "execution_count": 177,
      "outputs": []
    },
    {
      "cell_type": "code",
      "source": [
        "dfs[3].to_excel('Aug 25 - 31.xlsx')"
      ],
      "metadata": {
        "id": "BdASTMrGGz48"
      },
      "execution_count": 178,
      "outputs": []
    },
    {
      "cell_type": "code",
      "source": [
        "dfs[1]['VehicleNum'] = dfs[1]['VehicleNum'].astype(str)"
      ],
      "metadata": {
        "id": "bNwBQtuYOdDV"
      },
      "execution_count": null,
      "outputs": []
    },
    {
      "cell_type": "code",
      "source": [
        "print(dfs[0].shape)\n",
        "values_to_drop = ['MH31EM0417','MH40BG0869','MH40BL3833','MH31EM0396','MH40BG1073',\n",
        "                  'MH40BG2596','MH40BL3842','MH40BG1208','MH40BG1076','MH40BG3238',\n",
        "                  'MH31EM0397','MH31EMO391','MH31FCO406','MH31FC0509',\n",
        "                  'MH31FC0944','MH31FC0377','MH31FC0378','MH31FC0381','MH31FC0382',\n",
        "                  'MH31FCO424','MH31FC0942','MH31FC0945','MH31FC0946','MH31FC0966',\n",
        "                  'MH40BG1546','MH31EM0425','MH31EM0409','MH40BG1161','MH40BG1543',\n",
        "                  'MH40BG7375','MH40BG7436','MH40BG2008']\n",
        "\n",
        "dfs[0] = dfs[0][~dfs[0]['VehicleNum'].isin(values_to_drop)]\n",
        "\n",
        "print(dfs[0].shape)"
      ],
      "metadata": {
        "id": "O0PRaTSV23lk"
      },
      "execution_count": null,
      "outputs": []
    },
    {
      "cell_type": "code",
      "source": [
        "print(dfs[1].shape)\n",
        "values_to_drop = ['MH40BG0869','MH40BG1075','MH40BG1083','MH31EM0395','MH31EM0396',\n",
        "                  'MH40BG2596','MH40BL3842','MH40BG1208','MH40BG1076','MH40BG3238',\n",
        "                  'MH31EM0397','MH40BL3833','MH31EM0417','MH31EM0391','MH31FCO390',\n",
        "                  'MH31FC0415','MH31FC0424','MH31FC0944','MH31FC0377','MH31EM0390',\n",
        "                  'MH31FC0381','MH31FC0941','MH31FC0942','MH31FC0945','MH31FC0966',\n",
        "                  'MH40BG1546','MH40BG1952','MH31EM0425','MH31EM0409','MH40BG1161',\n",
        "                  'MH40BG1543','MH40BG2057','MH40BG7375','MH40BG7436','MH40BG2008']\n",
        "\n",
        "dfs[1] = dfs[1][~dfs[1]['VehicleNum'].isin(values_to_drop)]\n",
        "\n",
        "print(dfs[1].shape)"
      ],
      "metadata": {
        "id": "KrooaFyX5o58"
      },
      "execution_count": null,
      "outputs": []
    },
    {
      "cell_type": "code",
      "source": [
        "print(dfs[2].shape)\n",
        "values_to_drop = ['MH40BG1075','MH40BG2597','MH40BG1083','MH40BG1208','MH40BG1076',\n",
        "                  'MH40BG3238','MH31EM0397','MH40BL3833','MH31EM0417','MH31EM0394',\n",
        "                  'MH31FC0377','MH31FC0415','MH31FC0424','MH31FC0944','MH31EM0389',\n",
        "                  'MH31FC0382','MH31FC0943','MH31FC0945','MH31FC0966','MH31EM0392',\n",
        "                  'MH31EM0401','MH40BG1546','MH40BG1952','MH40BG1538','MH40BG1954',\n",
        "                  'MH40BG1543','MH31EM0409','MH40BG7375','MH40BG7436','MH40BG2008']\n",
        "\n",
        "dfs[2] = dfs[2][~dfs[2]['VehicleNum'].isin(values_to_drop)]\n",
        "\n",
        "print(dfs[2].shape)"
      ],
      "metadata": {
        "id": "pRc-jgGZ8WfL"
      },
      "execution_count": null,
      "outputs": []
    },
    {
      "cell_type": "code",
      "source": [
        "print(dfs[3].shape)\n",
        "values_to_drop = ['MH40BG0842','MH40BG0869','MH40BG1073','MH40BG1078','MH40BG1080',\n",
        "                  'MH40BG1215','MH31EM0396','MH40BG0838','MH40BG2596','MH40BG7469',\n",
        "                  'MH40BL3842','MH31EM0394','MH40BG1083','MH40BG1075','MH40BG1076',\n",
        "                  'MH40BG3238','MH31EM0397','MH40BL3833','MH31EM0417','MH31EM0391',\n",
        "                  'MH31FC0381','MH31FC0382','MH31FC0943','MH31FC0945','MH31FC3567',\n",
        "                  'MH31EM0392','MH40BG1546','MH31EM0425','MH40BG1163','MH31EM0409',\n",
        "                  'MH40BG1543','MH40BG1161','MH40BG7375','MH40BG2023','MH40BG2057',\n",
        "                  'MH40BG7436','MH40BG2008','MH40BG2125']\n",
        "\n",
        "dfs[3] = dfs[3][~dfs[3]['VehicleNum'].isin(values_to_drop)]\n",
        "\n",
        "print(dfs[3].shape)"
      ],
      "metadata": {
        "id": "LRmI5jof8Xmj"
      },
      "execution_count": null,
      "outputs": []
    },
    {
      "cell_type": "code",
      "source": [
        "combined_df = pd.concat([dfs[0],dfs[1], dfs[2], dfs[3]], axis=0, ignore_index=True)\n",
        "combined_df.head()"
      ],
      "metadata": {
        "id": "tva1qkMY_Uct"
      },
      "execution_count": null,
      "outputs": []
    },
    {
      "cell_type": "code",
      "source": [
        "# data[data['groupName'] == 'Tra'].index"
      ],
      "metadata": {
        "id": "lBzRR8Zz9zZ6"
      },
      "execution_count": null,
      "outputs": []
    },
    {
      "cell_type": "code",
      "source": [
        "count_lists = ['distance', 'me_fcw_count','me_hmw_count', 'me_pcw_count', 'me_lldw_count',\t'me_rldw_count']\n",
        "data_ = combined_df.groupby(['groupName', 'driverName'])[count_lists].sum().reset_index()\n",
        "print(data_.shape)\n",
        "# data_.head()"
      ],
      "metadata": {
        "id": "CmlfX2jV8Buq"
      },
      "execution_count": null,
      "outputs": []
    },
    {
      "cell_type": "code",
      "source": [
        "data_copy = data_.copy()\n",
        "\n",
        "# for i in data_copy['distance']:\n",
        "#   if i < 320:\n",
        "#     data_copy.drop(data_copy[i], inplace = True)\n",
        "\n",
        "data_copy = data_copy.drop(data_copy[data_copy.distance < 320].index)\n",
        "\n",
        "print(data_copy.shape)\n",
        "data_copy.head()"
      ],
      "metadata": {
        "id": "xvWj00-RLP8R"
      },
      "execution_count": null,
      "outputs": []
    },
    {
      "cell_type": "code",
      "source": [
        "data_copy[data_copy.distance < 320]"
      ],
      "metadata": {
        "id": "2bOJlYSYQpIt"
      },
      "execution_count": null,
      "outputs": []
    },
    {
      "cell_type": "code",
      "source": [
        "# rem_col = ['MH31EM0391']\n",
        "\n",
        "# data_ = data_[~data_['VehicleNum'].isin(rem_col)]\n",
        "# print(data_.shape)"
      ],
      "metadata": {
        "id": "QQVSdRyS_CZT"
      },
      "execution_count": null,
      "outputs": []
    },
    {
      "cell_type": "code",
      "source": [
        "# with pd.ExcelWriter('output.xlsx') as writer:\n",
        "#   for g_name, g_data in data_.groupby('groupName'):\n",
        "#     g_data.to_excel(writer, sheet_name=g_name, index=False)"
      ],
      "metadata": {
        "id": "JQraDWs-CA4V"
      },
      "execution_count": null,
      "outputs": []
    },
    {
      "cell_type": "code",
      "source": [
        "name_list = data_copy['groupName'].unique()\n",
        "print(name_list)\n",
        "\n",
        "for g_value in name_list:\n",
        "\n",
        "  g_df = data_copy[data_copy['groupName'] == g_value]\n",
        "  f_name = f\"group_{g_value}.xlsx\"\n",
        "  g_df.to_excel(f_name, index=False)"
      ],
      "metadata": {
        "id": "tD5TlBSG8owr"
      },
      "execution_count": null,
      "outputs": []
    },
    {
      "cell_type": "code",
      "source": [
        "name_ = 'Hansa-School-Bus-Fleet'\n",
        "\n",
        "group_df = data[data['groupName'] == 'name_']\n",
        "group_df.head()"
      ],
      "metadata": {
        "id": "E5LZpBUKiDeA"
      },
      "execution_count": null,
      "outputs": []
    },
    {
      "cell_type": "code",
      "source": [
        "# Only for Hansa-School-Bus-Fleet\n",
        "\n",
        "gp_df = data[data['groupName'] == 'Hansa-School-Bus-Fleet']\n",
        "\n",
        "count_lists = ['distance', 'me_fcw_count','me_hmw_count','me_pcw_count', 'me_lldw_count','me_rldw_count']\n",
        "\n",
        "gp_df = gp_df.groupby('VehicleNum')[count_lists].sum().reset_index()\n",
        "\n",
        "gp_df = gp_df.drop(gp_df[gp_df.distance < 320].index)\n",
        "\n",
        "gp_df.head()"
      ],
      "metadata": {
        "id": "CZfsiwXgiEfs"
      },
      "execution_count": null,
      "outputs": []
    },
    {
      "cell_type": "code",
      "source": [
        "gp_df.to_excel(\"group_Hansa-School-Bus-Fleet.xlsx\")"
      ],
      "metadata": {
        "id": "DLTETbnRiKNm"
      },
      "execution_count": 191,
      "outputs": []
    }
  ]
}