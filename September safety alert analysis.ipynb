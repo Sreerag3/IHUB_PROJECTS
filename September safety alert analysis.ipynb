{
  "nbformat": 4,
  "nbformat_minor": 0,
  "metadata": {
    "colab": {
      "provenance": [],
      "authorship_tag": "ABX9TyORD5kbfVFSz2EQchMMd8Ne",
      "include_colab_link": true
    },
    "kernelspec": {
      "name": "python3",
      "display_name": "Python 3"
    },
    "language_info": {
      "name": "python"
    }
  },
  "cells": [
    {
      "cell_type": "markdown",
      "metadata": {
        "id": "view-in-github",
        "colab_type": "text"
      },
      "source": [
        "<a href=\"https://colab.research.google.com/github/Sreerag3/IHUB_PROJECTS/blob/main/September%20safety%20alert%20analysis.ipynb\" target=\"_parent\"><img src=\"https://colab.research.google.com/assets/colab-badge.svg\" alt=\"Open In Colab\"/></a>"
      ]
    },
    {
      "cell_type": "code",
      "execution_count": null,
      "metadata": {
        "id": "KOUPRFTt8t6Z"
      },
      "outputs": [],
      "source": [
        "import pandas as pd\n",
        "\n",
        "data = pd.read_csv('')\n",
        "print(data.shape)\n",
        "data.head()"
      ]
    },
    {
      "cell_type": "code",
      "source": [
        "data.columns"
      ],
      "metadata": {
        "id": "JzBwCOga8xFW"
      },
      "execution_count": null,
      "outputs": []
    },
    {
      "cell_type": "code",
      "source": [
        "data = data[['endDate', 'VehicleNum', 'groupName', 'driverName', 'distance', 'me_fcw_count', 'me_hmw_count',\n",
        "             'me_pcw_count', 'me_lldw_count', 'me_rldw_count']]\n",
        "data.head()"
      ],
      "metadata": {
        "id": "9qbEoekm819P"
      },
      "execution_count": null,
      "outputs": []
    },
    {
      "cell_type": "code",
      "source": [
        "df = data.copy()\n",
        "print(df.shape)"
      ],
      "metadata": {
        "id": "g-ympulC85-J"
      },
      "execution_count": null,
      "outputs": []
    },
    {
      "cell_type": "code",
      "source": [
        "print(df.shape)\n",
        "values_to_drop = []\n",
        "\n",
        "df = df[~df ['VehicleNum'].isin(values_to_drop)]\n",
        "\n",
        "print(df.shape)"
      ],
      "metadata": {
        "id": "H2WkhdBh9H5f"
      },
      "execution_count": null,
      "outputs": []
    },
    {
      "cell_type": "code",
      "source": [
        "count_lists = ['distance', 'me_fcw_count','me_hmw_count', 'me_pcw_count', 'me_lldw_count',\t'me_rldw_count']\n",
        "data_ = df.groupby(['groupName', 'driverName'])[count_lists].sum().reset_index()\n",
        "print(data_.shape)"
      ],
      "metadata": {
        "id": "sRCmtZUL9Zwg"
      },
      "execution_count": null,
      "outputs": []
    },
    {
      "cell_type": "code",
      "source": [
        "data_copy = data_.copy()\n",
        "\n",
        "# for i in data_copy['distance']:\n",
        "#   if i < 320:\n",
        "#     data_copy.drop(data_copy[i], inplace = True)\n",
        "\n",
        "data_copy = data_copy.drop(data_copy[data_copy.distance < 320].index)\n",
        "\n",
        "print(data_copy.shape)\n",
        "data_copy.head()"
      ],
      "metadata": {
        "id": "91iqoNOG9e_4"
      },
      "execution_count": null,
      "outputs": []
    },
    {
      "cell_type": "code",
      "source": [
        "data_copy[data_copy.distance < 320]"
      ],
      "metadata": {
        "id": "t57uDaXZ9iED"
      },
      "execution_count": null,
      "outputs": []
    },
    {
      "cell_type": "code",
      "source": [
        "name_list = data_copy['groupName'].unique()\n",
        "print(name_list)\n",
        "\n",
        "for g_value in name_list:\n",
        "\n",
        "  g_df = data_copy[data_copy['groupName'] == g_value]\n",
        "  f_name = f\"group_{g_value}.xlsx\"\n",
        "  g_df.to_excel(f_name, index=False)"
      ],
      "metadata": {
        "id": "UvboRoNw9k2x"
      },
      "execution_count": null,
      "outputs": []
    },
    {
      "cell_type": "code",
      "source": [
        "name_ = 'Hansa-School-Bus-Fleet'\n",
        "\n",
        "group_df = data[data['groupName'] == 'name_']\n",
        "group_df.head()"
      ],
      "metadata": {
        "id": "C5TQwwf19zmA"
      },
      "execution_count": null,
      "outputs": []
    },
    {
      "cell_type": "code",
      "source": [
        "# Only for Hansa-School-Bus-Fleet\n",
        "\n",
        "gp_df = data[data['groupName'] == 'Hansa-School-Bus-Fleet']\n",
        "\n",
        "count_lists = ['distance', 'me_fcw_count','me_hmw_count','me_pcw_count', 'me_lldw_count','me_rldw_count']\n",
        "\n",
        "gp_df = gp_df.groupby('VehicleNum')[count_lists].sum().reset_index()\n",
        "\n",
        "gp_df = gp_df.drop(gp_df[gp_df.distance < 320].index)\n",
        "\n",
        "gp_df.head()"
      ],
      "metadata": {
        "id": "nOYpmFvE90YL"
      },
      "execution_count": null,
      "outputs": []
    },
    {
      "cell_type": "code",
      "source": [
        "gp_df.to_excel(\"group_Hansa-School-Bus-Fleet.xlsx\")"
      ],
      "metadata": {
        "id": "RsCze0v3954Z"
      },
      "execution_count": null,
      "outputs": []
    }
  ]
}