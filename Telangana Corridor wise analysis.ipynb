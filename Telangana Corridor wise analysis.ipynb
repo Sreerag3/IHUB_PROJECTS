{
  "nbformat": 4,
  "nbformat_minor": 0,
  "metadata": {
    "colab": {
      "provenance": [],
      "authorship_tag": "ABX9TyMy1Ht7aKCif/XjQGO41Mn+",
      "include_colab_link": true
    },
    "kernelspec": {
      "name": "python3",
      "display_name": "Python 3"
    },
    "language_info": {
      "name": "python"
    }
  },
  "cells": [
    {
      "cell_type": "markdown",
      "metadata": {
        "id": "view-in-github",
        "colab_type": "text"
      },
      "source": [
        "<a href=\"https://colab.research.google.com/github/Sreerag3/IHUB_PROJECTS/blob/main/Telangana%20Corridor%20wise%20analysis.ipynb\" target=\"_parent\"><img src=\"https://colab.research.google.com/assets/colab-badge.svg\" alt=\"Open In Colab\"/></a>"
      ]
    },
    {
      "cell_type": "code",
      "execution_count": null,
      "metadata": {
        "id": "xgKNo8FNMaCR"
      },
      "outputs": [],
      "source": [
        "import pandas as pd\n",
        "\n",
        "# Read the data from the CSV file\n",
        "data = pd.read_csv('/content/april all corridor.csv')\n",
        "\n",
        "# Select relevant columns\n",
        "data = data[['SERVICE', 'OPTD_ KMS', 'VEHICLE No.', 'Corridor']]\n",
        "\n",
        "# Group by 'Corridor' and count the unique 'VEHICLE No.'\n",
        "aggregated_data = data.groupby('Corridor').agg({'OPTD_ KMS': 'sum', 'SERVICE': 'unique', 'VEHICLE No.': 'nunique'}).reset_index()\n",
        "\n",
        "# Iterate through the rows and print unique SERVICE No., Corridor, and aggregated OPTD_ KMS\n",
        "for index, row in aggregated_data.iterrows():\n",
        "    corridors = row['Corridor']\n",
        "    total_optd_kms = row['OPTD_ KMS']\n",
        "    unique_service_numbers = row['SERVICE']\n",
        "    unique_vehicle_no_count = row['VEHICLE No.']\n",
        "\n",
        "    print(f\"Corridors: {corridors}\")\n",
        "    print(f\"Total OPTD_ KMS: {total_optd_kms}\")\n",
        "    print(f\"Unique SERVICE : {unique_service_numbers}\")\n",
        "    print(f\"Number of unique Vehicle No.: {unique_vehicle_no_count}\")\n",
        "    print(\"===\")\n",
        "\n",
        "# Save the result to an Excel file\n",
        "aggregated_data.to_excel(\"Corridor wise analysis.xlsx\", index=False)\n",
        "\n",
        "# Read the second Excel file with ADAS vehicle list\n",
        "second_file = pd.read_csv('/content/Adas bus details.csv')\n",
        "\n",
        "# Classify as ADAS or Non ADAS based on VEHICLE No. presence in the second Excel file\n",
        "data['bus'] = data['VEHICLE No.'].apply(lambda x: 'ADAS' if x in second_file['Veh No'].values else 'Non ADAS')\n",
        "\n",
        "# Separate data into ADAS and Non ADAS DataFrames\n",
        "adas_data = data[data['bus'] == 'ADAS']\n",
        "non_adas_data = data[data['bus'] == 'Non ADAS']\n",
        "\n",
        "# Group by 'VEHICLE No.' and aggregate the 'OPTD_ KMS', 'SERVICE No.', and 'Corridor'\n",
        "aggregated_data = adas_data.groupby('Corridor').agg({'OPTD_ KMS': 'sum', 'SERVICE': 'unique', 'VEHICLE No.': 'nunique'}).reset_index()\n",
        "\n",
        "# Iterate through the rows and print unique SERVICE No., Corridor, and aggregated OPTD_ KMS\n",
        "for index, row in aggregated_data.iterrows():\n",
        "    total_optd_kms = row['OPTD_ KMS']\n",
        "    unique_service_numbers = row['SERVICE']\n",
        "    unique_vehicle_no_count = row['VEHICLE No.']\n",
        "\n",
        "    print(f\"Corridors: {corridors}\")\n",
        "    print(f\"Total OPTD_ KMS: {total_optd_kms}\")\n",
        "    print(f\"Unique SERVICE No.: {unique_service_numbers}\")\n",
        "    print(f\"Number of unique Vehicle No.: {unique_vehicle_no_count}\")\n",
        "    print(\"===\")\n",
        "\n",
        "# Save the result to an Excel file\n",
        "aggregated_data.to_excel(\" Corridor Adas aggregated.xlsx\", index=False)\n",
        "\n",
        "# Group by 'VEHICLE No.' and aggregate the 'OPTD_ KMS', 'SERVICE No.', and 'Corridor'\n",
        "aggregated_data = non_adas_data.groupby('Corridor').agg({'OPTD_ KMS': 'sum', 'SERVICE': 'unique', 'VEHICLE No.': 'nunique'}).reset_index()\n",
        "\n",
        "# Iterate through the rows and print unique SERVICE No., Corridor, and aggregated OPTD_ KMS\n",
        "for index, row in aggregated_data.iterrows():\n",
        "    total_optd_kms = row['OPTD_ KMS']\n",
        "    unique_service_numbers = row['SERVICE']\n",
        "    unique_vehicle_no_count = row['VEHICLE No.']\n",
        "\n",
        "    print(f\"Corridors: {corridors}\")\n",
        "    print(f\"Total OPTD_ KMS: {total_optd_kms}\")\n",
        "    print(f\"Unique SERVICE No.: {unique_service_numbers}\")\n",
        "    print(f\"Number of unique Vehicle No.: {unique_vehicle_no_count}\")\n",
        "    print(\"===\")\n",
        "\n",
        "# Save the result to an Excel file\n",
        "aggregated_data.to_excel(\" Corridor Non Adas aggregated.xlsx\", index=False)"
      ]
    }
  ]
}