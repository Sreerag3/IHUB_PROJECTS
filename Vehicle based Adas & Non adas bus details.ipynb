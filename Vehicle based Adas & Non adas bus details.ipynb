{
  "nbformat": 4,
  "nbformat_minor": 0,
  "metadata": {
    "colab": {
      "provenance": [],
      "authorship_tag": "ABX9TyOOx4hJSgUkCeZKXefCdtIO",
      "include_colab_link": true
    },
    "kernelspec": {
      "name": "python3",
      "display_name": "Python 3"
    },
    "language_info": {
      "name": "python"
    }
  },
  "cells": [
    {
      "cell_type": "markdown",
      "metadata": {
        "id": "view-in-github",
        "colab_type": "text"
      },
      "source": [
        "<a href=\"https://colab.research.google.com/github/Sreerag3/IHUB_PROJECTS/blob/main/Vehicle%20based%20Adas%20%26%20Non%20adas%20bus%20details.ipynb\" target=\"_parent\"><img src=\"https://colab.research.google.com/assets/colab-badge.svg\" alt=\"Open In Colab\"/></a>"
      ]
    },
    {
      "cell_type": "code",
      "execution_count": null,
      "metadata": {
        "id": "K1c9R7BTWUdh"
      },
      "outputs": [],
      "source": [
        "import pandas as pd\n",
        "\n",
        "# Read the input CSV file\n",
        "data = pd.read_csv('/content/Bhel raw.csv')\n",
        "\n",
        "# Read the second Excel file with ADAS vehicle list\n",
        "second_file = pd.read_csv('/content/Adas bus details.csv')\n",
        "\n",
        "# Classify as ADAS or Non ADAS based on VEHICLE No. presence in the second Excel file\n",
        "data['bus'] = data['VEHICLE No.'].apply(lambda x: 'ADAS' if x in second_file['Veh No'].values else 'Non ADAS')\n",
        "data.to_excel('adaslist1.xlsx', index=False)\n",
        "\n",
        "# Separate data into ADAS and Non ADAS DataFrames\n",
        "adas_data = data[data['bus'] == 'ADAS']\n",
        "non_adas_data = data[data['bus'] == 'Non ADAS']\n",
        "\n",
        "# Save ADAS and Non ADAS DataFrames to separate CSV files\n",
        "adas_data.to_csv('adaslist.csv', index=False)\n",
        "non_adas_data.to_csv('non_adaslist.csv', index=False)"
      ]
    },
    {
      "cell_type": "code",
      "source": [
        "# # Keep only relevant columns\n",
        "adas_data = adas_data[['Corridor','OPTD_ KMS', 'VEHICLE No.','bus']]\n",
        "\n",
        "# Group by 'SERVICE No.' and 'Corridor', and aggregate the sum of 'OPTD_KMS'\n",
        "grouped_data = adas_data.groupby(['VEHICLE No.', 'Corridor']).agg({\n",
        "    'OPTD_ KMS': 'sum',\n",
        "\n",
        "}).reset_index()"
      ],
      "metadata": {
        "id": "zrFPEYNZWdWg"
      },
      "execution_count": null,
      "outputs": []
    },
    {
      "cell_type": "code",
      "source": [
        "grouped_data.to_excel(\"adas grouped.xlsx\", index=False)"
      ],
      "metadata": {
        "id": "foh5lVmPWgLw"
      },
      "execution_count": null,
      "outputs": []
    },
    {
      "cell_type": "code",
      "source": [
        "# # Keep only relevant columns\n",
        "non_adas_data = non_adas_data[['Corridor','OPTD_ KMS', 'VEHICLE No.','bus']]\n",
        "\n",
        "# Group by 'SERVICE No.' and 'Corridor', and aggregate the sum of 'OPTD_KMS'\n",
        "grouped_data = non_adas_data.groupby(['VEHICLE No.', 'Corridor']).agg({\n",
        "    'OPTD_ KMS': 'sum',\n",
        "\n",
        "}).reset_index()"
      ],
      "metadata": {
        "id": "RvCNGI92WipI"
      },
      "execution_count": null,
      "outputs": []
    },
    {
      "cell_type": "code",
      "source": [
        "grouped_data.to_excel(\"Non-adas grouped.xlsx\", index=False)"
      ],
      "metadata": {
        "id": "gzV4m6JNWwM6"
      },
      "execution_count": null,
      "outputs": []
    }
  ]
}