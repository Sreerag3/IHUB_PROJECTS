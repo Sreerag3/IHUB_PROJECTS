{
  "nbformat": 4,
  "nbformat_minor": 0,
  "metadata": {
    "colab": {
      "provenance": [],
      "authorship_tag": "ABX9TyPvm6H1LzWV1OiaSEJ5d/k/",
      "include_colab_link": true
    },
    "kernelspec": {
      "name": "python3",
      "display_name": "Python 3"
    },
    "language_info": {
      "name": "python"
    }
  },
  "cells": [
    {
      "cell_type": "markdown",
      "metadata": {
        "id": "view-in-github",
        "colab_type": "text"
      },
      "source": [
        "<a href=\"https://colab.research.google.com/github/Sreerag3/IHUB_PROJECTS/blob/main/Original%20script%20for%20Nagpur%20faulty%20vehicle%20removal.ipynb\" target=\"_parent\"><img src=\"https://colab.research.google.com/assets/colab-badge.svg\" alt=\"Open In Colab\"/></a>"
      ]
    },
    {
      "cell_type": "code",
      "source": [
        "import pandas as pd\n",
        "from datetime import datetime\n",
        "\n",
        "data = pd.read_csv('/content/Trip Raw Report_November (4).csv')\n",
        "df = data.copy()\n",
        "\n",
        "faulty_vehicle_list = pd.read_excel('/content/Nov faulty.xlsx')['VehicleNum'].tolist()\n",
        "\n",
        "# Function to identify consecutive rows with CAS=0 for a given vehicle\n",
        "def identify_faulty_rows(vehicle_data):\n",
        "    consecutive_zeros = 0\n",
        "    faulty_rows = []\n",
        "\n",
        "    for index, row in vehicle_data.iterrows():\n",
        "        if row['CAS'] == 0:\n",
        "            consecutive_zeros += 1\n",
        "        else:\n",
        "            consecutive_zeros = 0  # Reset if CAS is not 0\n",
        "\n",
        "        if consecutive_zeros >= 15 and row['VehicleNum'] in faulty_vehicle_list:\n",
        "            faulty_rows.extend(list(range(index - consecutive_zeros + 1, index + 1)))\n",
        "\n",
        "    return faulty_rows\n",
        "\n",
        "# Apply the function to each vehicle\n",
        "faulty_rows_to_remove = []\n",
        "for vehicle_num in df['VehicleNum'].unique():\n",
        "    vehicle_data = df[df['VehicleNum'] == vehicle_num]\n",
        "    faulty_rows_to_remove.extend(identify_faulty_rows(vehicle_data))\n",
        "\n",
        "# Remove the identified faulty rows\n",
        "df_cleaned = df.drop(faulty_rows_to_remove)"
      ],
      "metadata": {
        "id": "OvXlc0MCqPT2"
      },
      "execution_count": 29,
      "outputs": []
    },
    {
      "cell_type": "code",
      "source": [
        "df_cleaned.to_excel('CLEANED DATA AUG.xlsx', index=False)"
      ],
      "metadata": {
        "id": "s9aF-oFRr5Vv"
      },
      "execution_count": 24,
      "outputs": []
    },
    {
      "cell_type": "code",
      "source": [
        "count_lists = ['distance', 'CAS', 'me_fcw_count', 'me_hmw_count', 'me_pcw_count', 'me_lldw_count', 'me_rldw_count']\n",
        "finaldata_ = df_cleaned.groupby(['groupName','driverName'])[count_lists].sum().reset_index()\n",
        "print(finaldata_.shape)\n",
        "finaldata_.head()"
      ],
      "metadata": {
        "id": "Gov7VbaTvUuc"
      },
      "execution_count": null,
      "outputs": []
    },
    {
      "cell_type": "code",
      "source": [
        "name_list = finaldata_['groupName'].unique()\n",
        "print(name_list)\n",
        "\n",
        "for g_value in name_list:\n",
        "\n",
        "  g_df = finaldata_[finaldata_['groupName'] == g_value]\n",
        "  f_name = f\"group_{g_value}.xlsx\"\n",
        "  g_df.to_excel(f_name, index=False)\n",
        "\n",
        "gp_df = df_cleaned[df_cleaned['groupName'] == 'Hansa-School-Bus-Fleet']\n",
        "\n",
        "count_lists = ['distance', 'me_fcw_count','me_hmw_count','me_pcw_count', 'me_lldw_count','me_rldw_count']\n",
        "\n",
        "gp_df = df_cleaned.groupby('VehicleNum')[count_lists].sum().reset_index()\n",
        "\n",
        "gp_df.head()"
      ],
      "metadata": {
        "id": "nvrNvzDUvmXO"
      },
      "execution_count": null,
      "outputs": []
    },
    {
      "cell_type": "code",
      "source": [
        "gp_df.to_excel(\"group_Hansa-School-Bus-Fleet.xlsx\")"
      ],
      "metadata": {
        "id": "vsXYdRjYwbeE"
      },
      "execution_count": 32,
      "outputs": []
    }
  ]
}
