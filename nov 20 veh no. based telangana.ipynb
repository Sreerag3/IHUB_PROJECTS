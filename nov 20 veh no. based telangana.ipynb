{
  "nbformat": 4,
  "nbformat_minor": 0,
  "metadata": {
    "colab": {
      "provenance": [],
      "authorship_tag": "ABX9TyM5EwthXX7i/cgqHP8YRaIG",
      "include_colab_link": true
    },
    "kernelspec": {
      "name": "python3",
      "display_name": "Python 3"
    },
    "language_info": {
      "name": "python"
    }
  },
  "cells": [
    {
      "cell_type": "markdown",
      "metadata": {
        "id": "view-in-github",
        "colab_type": "text"
      },
      "source": [
        "<a href=\"https://colab.research.google.com/github/Sreerag3/IHUB_PROJECTS/blob/main/nov%2020%20veh%20no.%20based%20telangana.ipynb\" target=\"_parent\"><img src=\"https://colab.research.google.com/assets/colab-badge.svg\" alt=\"Open In Colab\"/></a>"
      ]
    },
    {
      "cell_type": "code",
      "execution_count": null,
      "metadata": {
        "id": "bcgk2ko_t6Ck"
      },
      "outputs": [],
      "source": [
        "import pandas as pd\n",
        "\n",
        "# Read the data from the CSV file\n",
        "data = pd.read_csv('/content/Updated Roster.csv')\n",
        "\n",
        "# Select relevant columns\n",
        "data = data[['SERVICE', 'OPTD_ KMS', 'VEHICLE No.',]]\n",
        "\n",
        "# Group by 'VEHICLE No.' and aggregate the 'OPTD_ KMS', 'SERVICE No.', and 'Corridor'\n",
        "aggregated_data = data.groupby('VEHICLE No.').agg({'OPTD_ KMS': 'sum', 'SERVICE': 'unique'}).reset_index()\n",
        "\n",
        "# Iterate through the rows and print unique SERVICE No., Corridor, and aggregated OPTD_ KMS\n",
        "for index, row in aggregated_data.iterrows():\n",
        "    vehicle_no = row['VEHICLE No.']\n",
        "    total_optd_kms = row['OPTD_ KMS']\n",
        "    unique_service_numbers = row['SERVICE']\n",
        "\n",
        "    print(f\"Vehicle No.: {vehicle_no}\")\n",
        "    print(f\"Total OPTD_ KMS: {total_optd_kms}\")\n",
        "    print(f\"Unique SERVICE No.: {unique_service_numbers}\")\n",
        "    print(\"===\")\n",
        "\n",
        "# Save the result to an Excel file\n",
        "aggregated_data.to_excel(\"Veh No based ride details.xlsx\", index=False)"
      ]
    }
  ]
}